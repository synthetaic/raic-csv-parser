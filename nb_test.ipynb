{
 "cells": [
  {
   "cell_type": "code",
   "execution_count": 1,
   "metadata": {},
   "outputs": [],
   "source": [
    "import os\n",
    "import argparse\n",
    "import asyncio\n",
    "import csv\n",
    "from pathlib import Path, PurePath\n",
    "from typing import List\n",
    "from uuid import uuid4\n",
    "\n",
    "import pandas as pd\n",
    "from aiohttp import ClientSession\n",
    "\n",
    "\n",
    "async def http_get(\n",
    "    session: ClientSession,\n",
    "    url: str,\n",
    "    outfilename: str,\n",
    "    sas: str,\n",
    "    headers: dict = {},\n",
    "    proxy: str = None,\n",
    "    timeout: int = 10,\n",
    ") -> bytes:\n",
    "\n",
    "    response = await session.get(\n",
    "        url=url + sas, headers=headers, proxy=proxy, timeout=timeout\n",
    "    )\n",
    "    content = None\n",
    "\n",
    "    out = {\"url\": url, \"filename\": None}\n",
    "\n",
    "    try:\n",
    "        content = await response.read()\n",
    "        with open(outfilename, \"wb\") as f:\n",
    "            f.write(content)\n",
    "        out[\"filename\"] = outfilename\n",
    "    except:\n",
    "        pass\n",
    "\n",
    "    return out\n",
    "\n",
    "\n",
    "async def http_get_parallel(\n",
    "    session: ClientSession,\n",
    "    indf: pd.DataFrame,\n",
    "    sas: str,\n",
    "    headers: dict = {},\n",
    "    proxy: str = None,\n",
    "    timeout: int = 10,\n",
    ") -> List[dict]:\n",
    "\n",
    "    results = await asyncio.gather(\n",
    "        *[\n",
    "            http_get(session, row.url, row.outfile, sas, headers, proxy, timeout)\n",
    "            for k, row in indf.iterrows()\n",
    "        ]\n",
    "    )\n",
    "    return results\n",
    "\n",
    "\n",
    "def getSASkey(csvFile: str) -> str:\n",
    "    with open(csvFile, newline=\"\") as f:\n",
    "        reader = csv.reader(f)\n",
    "        SASkey = next(reader)[1]\n",
    "    return SASkey\n"
   ]
  },
  {
   "cell_type": "code",
   "execution_count": 2,
   "metadata": {},
   "outputs": [],
   "source": [
    "csvFile = \"./data/categories_bd1f887b-4394-4f46-90c4-a599ed039746_637885127746682846.csv\"\n",
    "outDir = \"./data\"\n",
    "isImagery = False\n"
   ]
  },
  {
   "cell_type": "code",
   "execution_count": 3,
   "metadata": {},
   "outputs": [],
   "source": [
    "\n",
    "SASkey = getSASkey(csvFile)\n",
    "df = pd.read_csv(csvFile, skiprows=1)\n"
   ]
  },
  {
   "cell_type": "code",
   "execution_count": 4,
   "metadata": {},
   "outputs": [
    {
     "data": {
      "text/plain": [
       "'?sv=2019-12-12&ss=b&srt=co&sp=r&se=2023-03-04T11:01:44Z&st=2021-02-03T03:01:44Z&spr=https&sig=xltwMFWKEl8h4c%2BX%2BtcoftoMQg4p67uefHopgWM1L30%3D'"
      ]
     },
     "execution_count": 4,
     "metadata": {},
     "output_type": "execute_result"
    }
   ],
   "source": [
    "SASkey"
   ]
  },
  {
   "cell_type": "code",
   "execution_count": 5,
   "metadata": {},
   "outputs": [
    {
     "data": {
      "text/html": [
       "<div>\n",
       "<style scoped>\n",
       "    .dataframe tbody tr th:only-of-type {\n",
       "        vertical-align: middle;\n",
       "    }\n",
       "\n",
       "    .dataframe tbody tr th {\n",
       "        vertical-align: top;\n",
       "    }\n",
       "\n",
       "    .dataframe thead th {\n",
       "        text-align: right;\n",
       "    }\n",
       "</style>\n",
       "<table border=\"1\" class=\"dataframe\">\n",
       "  <thead>\n",
       "    <tr style=\"text-align: right;\">\n",
       "      <th></th>\n",
       "      <th>category</th>\n",
       "      <th>lat</th>\n",
       "      <th>lng</th>\n",
       "      <th>val</th>\n",
       "      <th>url</th>\n",
       "      <th>isapproved</th>\n",
       "    </tr>\n",
       "  </thead>\n",
       "  <tbody>\n",
       "    <tr>\n",
       "      <th>0</th>\n",
       "      <td>Exclude</td>\n",
       "      <td>NaN</td>\n",
       "      <td>NaN</td>\n",
       "      <td>NaN</td>\n",
       "      <td>https://geospatialraicstorage001.blob.core.win...</td>\n",
       "      <td>False</td>\n",
       "    </tr>\n",
       "    <tr>\n",
       "      <th>1</th>\n",
       "      <td>Exclude</td>\n",
       "      <td>NaN</td>\n",
       "      <td>NaN</td>\n",
       "      <td>NaN</td>\n",
       "      <td>https://geospatialraicstorage001.blob.core.win...</td>\n",
       "      <td>False</td>\n",
       "    </tr>\n",
       "    <tr>\n",
       "      <th>2</th>\n",
       "      <td>Exclude</td>\n",
       "      <td>NaN</td>\n",
       "      <td>NaN</td>\n",
       "      <td>NaN</td>\n",
       "      <td>https://geospatialraicstorage001.blob.core.win...</td>\n",
       "      <td>False</td>\n",
       "    </tr>\n",
       "    <tr>\n",
       "      <th>3</th>\n",
       "      <td>Exclude</td>\n",
       "      <td>NaN</td>\n",
       "      <td>NaN</td>\n",
       "      <td>NaN</td>\n",
       "      <td>https://geospatialraicstorage001.blob.core.win...</td>\n",
       "      <td>False</td>\n",
       "    </tr>\n",
       "    <tr>\n",
       "      <th>4</th>\n",
       "      <td>Exclude</td>\n",
       "      <td>NaN</td>\n",
       "      <td>NaN</td>\n",
       "      <td>NaN</td>\n",
       "      <td>https://geospatialraicstorage001.blob.core.win...</td>\n",
       "      <td>False</td>\n",
       "    </tr>\n",
       "  </tbody>\n",
       "</table>\n",
       "</div>"
      ],
      "text/plain": [
       "  category  lat  lng  val                                                url  \\\n",
       "0  Exclude  NaN  NaN  NaN  https://geospatialraicstorage001.blob.core.win...   \n",
       "1  Exclude  NaN  NaN  NaN  https://geospatialraicstorage001.blob.core.win...   \n",
       "2  Exclude  NaN  NaN  NaN  https://geospatialraicstorage001.blob.core.win...   \n",
       "3  Exclude  NaN  NaN  NaN  https://geospatialraicstorage001.blob.core.win...   \n",
       "4  Exclude  NaN  NaN  NaN  https://geospatialraicstorage001.blob.core.win...   \n",
       "\n",
       "   isapproved  \n",
       "0       False  \n",
       "1       False  \n",
       "2       False  \n",
       "3       False  \n",
       "4       False  "
      ]
     },
     "execution_count": 5,
     "metadata": {},
     "output_type": "execute_result"
    }
   ],
   "source": [
    "df.head()"
   ]
  },
  {
   "cell_type": "code",
   "execution_count": 12,
   "metadata": {},
   "outputs": [],
   "source": [
    "\n",
    "df[\"outfile\"] = df[\"url\"].apply(\n",
    "    lambda x: PurePath(\"/root/code\",\n",
    "        outDir,\n",
    "        *list(\n",
    "            Path(x).parts[-4:] if not isImagery else str(uuid4()) + Path(x).suffix\n",
    "        ),\n",
    "    )\n",
    ")\n"
   ]
  },
  {
   "cell_type": "code",
   "execution_count": 13,
   "metadata": {},
   "outputs": [
    {
     "data": {
      "text/html": [
       "<div>\n",
       "<style scoped>\n",
       "    .dataframe tbody tr th:only-of-type {\n",
       "        vertical-align: middle;\n",
       "    }\n",
       "\n",
       "    .dataframe tbody tr th {\n",
       "        vertical-align: top;\n",
       "    }\n",
       "\n",
       "    .dataframe thead th {\n",
       "        text-align: right;\n",
       "    }\n",
       "</style>\n",
       "<table border=\"1\" class=\"dataframe\">\n",
       "  <thead>\n",
       "    <tr style=\"text-align: right;\">\n",
       "      <th></th>\n",
       "      <th>category</th>\n",
       "      <th>lat</th>\n",
       "      <th>lng</th>\n",
       "      <th>val</th>\n",
       "      <th>url</th>\n",
       "      <th>isapproved</th>\n",
       "      <th>outfile</th>\n",
       "    </tr>\n",
       "  </thead>\n",
       "  <tbody>\n",
       "    <tr>\n",
       "      <th>0</th>\n",
       "      <td>Exclude</td>\n",
       "      <td>NaN</td>\n",
       "      <td>NaN</td>\n",
       "      <td>NaN</td>\n",
       "      <td>https://geospatialraicstorage001.blob.core.win...</td>\n",
       "      <td>False</td>\n",
       "      <td>/root/code/data/rgb/21/536037/770357.png</td>\n",
       "    </tr>\n",
       "    <tr>\n",
       "      <th>1</th>\n",
       "      <td>Exclude</td>\n",
       "      <td>NaN</td>\n",
       "      <td>NaN</td>\n",
       "      <td>NaN</td>\n",
       "      <td>https://geospatialraicstorage001.blob.core.win...</td>\n",
       "      <td>False</td>\n",
       "      <td>/root/code/data/rgb/21/536230/770499.png</td>\n",
       "    </tr>\n",
       "    <tr>\n",
       "      <th>2</th>\n",
       "      <td>Exclude</td>\n",
       "      <td>NaN</td>\n",
       "      <td>NaN</td>\n",
       "      <td>NaN</td>\n",
       "      <td>https://geospatialraicstorage001.blob.core.win...</td>\n",
       "      <td>False</td>\n",
       "      <td>/root/code/data/rgb/21/536010/770410.png</td>\n",
       "    </tr>\n",
       "    <tr>\n",
       "      <th>3</th>\n",
       "      <td>Exclude</td>\n",
       "      <td>NaN</td>\n",
       "      <td>NaN</td>\n",
       "      <td>NaN</td>\n",
       "      <td>https://geospatialraicstorage001.blob.core.win...</td>\n",
       "      <td>False</td>\n",
       "      <td>/root/code/data/rgb/21/536047/770306.png</td>\n",
       "    </tr>\n",
       "    <tr>\n",
       "      <th>4</th>\n",
       "      <td>Exclude</td>\n",
       "      <td>NaN</td>\n",
       "      <td>NaN</td>\n",
       "      <td>NaN</td>\n",
       "      <td>https://geospatialraicstorage001.blob.core.win...</td>\n",
       "      <td>False</td>\n",
       "      <td>/root/code/data/rgb/21/536020/770554.png</td>\n",
       "    </tr>\n",
       "  </tbody>\n",
       "</table>\n",
       "</div>"
      ],
      "text/plain": [
       "  category  lat  lng  val                                                url  \\\n",
       "0  Exclude  NaN  NaN  NaN  https://geospatialraicstorage001.blob.core.win...   \n",
       "1  Exclude  NaN  NaN  NaN  https://geospatialraicstorage001.blob.core.win...   \n",
       "2  Exclude  NaN  NaN  NaN  https://geospatialraicstorage001.blob.core.win...   \n",
       "3  Exclude  NaN  NaN  NaN  https://geospatialraicstorage001.blob.core.win...   \n",
       "4  Exclude  NaN  NaN  NaN  https://geospatialraicstorage001.blob.core.win...   \n",
       "\n",
       "   isapproved                                   outfile  \n",
       "0       False  /root/code/data/rgb/21/536037/770357.png  \n",
       "1       False  /root/code/data/rgb/21/536230/770499.png  \n",
       "2       False  /root/code/data/rgb/21/536010/770410.png  \n",
       "3       False  /root/code/data/rgb/21/536047/770306.png  \n",
       "4       False  /root/code/data/rgb/21/536020/770554.png  "
      ]
     },
     "execution_count": 13,
     "metadata": {},
     "output_type": "execute_result"
    }
   ],
   "source": [
    "df.head()"
   ]
  },
  {
   "cell_type": "code",
   "execution_count": 15,
   "metadata": {},
   "outputs": [
    {
     "data": {
      "text/plain": [
       "<coroutine object ClientSession.close at 0x7fbc69b795c0>"
      ]
     },
     "execution_count": 15,
     "metadata": {},
     "output_type": "execute_result"
    }
   ],
   "source": [
    "url = df[\"url\"].iloc[0]\n",
    "outfile = df[\"outfile\"].iloc[0]\n",
    "sess = ClientSession()\n",
    "await http_get(sess,url,outfile,SASkey)\n",
    "\n",
    "sess.close()"
   ]
  },
  {
   "cell_type": "code",
   "execution_count": null,
   "metadata": {},
   "outputs": [],
   "source": [
    "\n",
    "sess = ClientSession()\n",
    "res = http_get_parallel(sess, df, SASkey, not isImagery, outDir)\n",
    "saved_csv = str(PurePath(outDir, \"ref_\" + Path(csvFile).stem + \".csv\"))\n",
    "sess.close()\n",
    "\n",
    "try:\n",
    "    pd.DataFrame(res).to_csv(saved_csv)\n",
    "except:\n",
    "    print(\"Failed to save reference CSV\")\n",
    "    return 1\n",
    "\n",
    "print(f\"Successfully saved csv to:\\n{saved_csv}\")"
   ]
  }
 ],
 "metadata": {
  "interpreter": {
   "hash": "949777d72b0d2535278d3dc13498b2535136f6dfe0678499012e853ee9abcab1"
  },
  "kernelspec": {
   "display_name": "Python 3.8.13 64-bit",
   "language": "python",
   "name": "python3"
  },
  "language_info": {
   "codemirror_mode": {
    "name": "ipython",
    "version": 3
   },
   "file_extension": ".py",
   "mimetype": "text/x-python",
   "name": "python",
   "nbconvert_exporter": "python",
   "pygments_lexer": "ipython3",
   "version": "3.8.13"
  },
  "orig_nbformat": 4
 },
 "nbformat": 4,
 "nbformat_minor": 2
}
